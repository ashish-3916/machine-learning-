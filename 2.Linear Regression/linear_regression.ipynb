{
  "nbformat": 4,
  "nbformat_minor": 0,
  "metadata": {
    "colab": {
      "name": "linear regression.ipynb",
      "provenance": [],
      "authorship_tag": "ABX9TyNKCVhhUStNAfNhti3q1F7p",
      "include_colab_link": true
    },
    "kernelspec": {
      "name": "python3",
      "display_name": "Python 3"
    },
    "language_info": {
      "name": "python"
    }
  },
  "cells": [
    {
      "cell_type": "markdown",
      "metadata": {
        "id": "view-in-github",
        "colab_type": "text"
      },
      "source": [
        "<a href=\"https://colab.research.google.com/github/ashish-3916/machine-learning-/blob/main/linear_regression.ipynb\" target=\"_parent\"><img src=\"https://colab.research.google.com/assets/colab-badge.svg\" alt=\"Open In Colab\"/></a>"
      ]
    },
    {
      "cell_type": "markdown",
      "metadata": {
        "id": "rhiABn20od2_"
      },
      "source": [
        "linear regression"
      ]
    },
    {
      "cell_type": "code",
      "metadata": {
        "id": "uTVpeaQ6j2lt"
      },
      "source": [
        "import pandas as pd\n",
        "import numpy as np"
      ],
      "execution_count": null,
      "outputs": []
    },
    {
      "cell_type": "code",
      "metadata": {
        "colab": {
          "base_uri": "https://localhost:8080/",
          "height": 417
        },
        "id": "nCpLpTQknDCR",
        "outputId": "a630c058-32a6-4e4b-fb39-6a805e4b3a7c"
      },
      "source": [
        "data =  pd.read_csv(\"data.csv\", header = None, names=['X', 'Y'])\n",
        "data"
      ],
      "execution_count": null,
      "outputs": [
        {
          "output_type": "execute_result",
          "data": {
            "text/html": [
              "<div>\n",
              "<style scoped>\n",
              "    .dataframe tbody tr th:only-of-type {\n",
              "        vertical-align: middle;\n",
              "    }\n",
              "\n",
              "    .dataframe tbody tr th {\n",
              "        vertical-align: top;\n",
              "    }\n",
              "\n",
              "    .dataframe thead th {\n",
              "        text-align: right;\n",
              "    }\n",
              "</style>\n",
              "<table border=\"1\" class=\"dataframe\">\n",
              "  <thead>\n",
              "    <tr style=\"text-align: right;\">\n",
              "      <th></th>\n",
              "      <th>X</th>\n",
              "      <th>Y</th>\n",
              "    </tr>\n",
              "  </thead>\n",
              "  <tbody>\n",
              "    <tr>\n",
              "      <th>0</th>\n",
              "      <td>32.502345</td>\n",
              "      <td>31.707006</td>\n",
              "    </tr>\n",
              "    <tr>\n",
              "      <th>1</th>\n",
              "      <td>53.426804</td>\n",
              "      <td>68.777596</td>\n",
              "    </tr>\n",
              "    <tr>\n",
              "      <th>2</th>\n",
              "      <td>61.530358</td>\n",
              "      <td>62.562382</td>\n",
              "    </tr>\n",
              "    <tr>\n",
              "      <th>3</th>\n",
              "      <td>47.475640</td>\n",
              "      <td>71.546632</td>\n",
              "    </tr>\n",
              "    <tr>\n",
              "      <th>4</th>\n",
              "      <td>59.813208</td>\n",
              "      <td>87.230925</td>\n",
              "    </tr>\n",
              "    <tr>\n",
              "      <th>...</th>\n",
              "      <td>...</td>\n",
              "      <td>...</td>\n",
              "    </tr>\n",
              "    <tr>\n",
              "      <th>95</th>\n",
              "      <td>50.030174</td>\n",
              "      <td>81.536991</td>\n",
              "    </tr>\n",
              "    <tr>\n",
              "      <th>96</th>\n",
              "      <td>49.239765</td>\n",
              "      <td>72.111832</td>\n",
              "    </tr>\n",
              "    <tr>\n",
              "      <th>97</th>\n",
              "      <td>50.039576</td>\n",
              "      <td>85.232007</td>\n",
              "    </tr>\n",
              "    <tr>\n",
              "      <th>98</th>\n",
              "      <td>48.149859</td>\n",
              "      <td>66.224958</td>\n",
              "    </tr>\n",
              "    <tr>\n",
              "      <th>99</th>\n",
              "      <td>25.128485</td>\n",
              "      <td>53.454394</td>\n",
              "    </tr>\n",
              "  </tbody>\n",
              "</table>\n",
              "<p>100 rows × 2 columns</p>\n",
              "</div>"
            ],
            "text/plain": [
              "            X          Y\n",
              "0   32.502345  31.707006\n",
              "1   53.426804  68.777596\n",
              "2   61.530358  62.562382\n",
              "3   47.475640  71.546632\n",
              "4   59.813208  87.230925\n",
              "..        ...        ...\n",
              "95  50.030174  81.536991\n",
              "96  49.239765  72.111832\n",
              "97  50.039576  85.232007\n",
              "98  48.149859  66.224958\n",
              "99  25.128485  53.454394\n",
              "\n",
              "[100 rows x 2 columns]"
            ]
          },
          "metadata": {},
          "execution_count": 43
        }
      ]
    },
    {
      "cell_type": "code",
      "metadata": {
        "id": "i84jYOjJnLFB"
      },
      "source": [
        "x = data.X\n",
        "y = data.Y"
      ],
      "execution_count": null,
      "outputs": []
    },
    {
      "cell_type": "code",
      "metadata": {
        "colab": {
          "base_uri": "https://localhost:8080/"
        },
        "id": "hnEbL3gQn2nK",
        "outputId": "5161e842-dabb-482a-baca-02b163c4cac8"
      },
      "source": [
        "print(x.shape)\n",
        "print(y.shape)"
      ],
      "execution_count": null,
      "outputs": [
        {
          "output_type": "stream",
          "name": "stdout",
          "text": [
            "(100,)\n",
            "(100,)\n"
          ]
        }
      ]
    },
    {
      "cell_type": "code",
      "metadata": {
        "id": "7EmjAqFNp4qN"
      },
      "source": [
        "x = np.array(x).reshape(-1, 1) # converting 1 d array to 2d array"
      ],
      "execution_count": null,
      "outputs": []
    },
    {
      "cell_type": "code",
      "metadata": {
        "colab": {
          "base_uri": "https://localhost:8080/"
        },
        "id": "3hCyfrw7sjpC",
        "outputId": "6a6f2634-284a-44da-d544-9df0e3db6a6d"
      },
      "source": [
        "x.shape"
      ],
      "execution_count": null,
      "outputs": [
        {
          "output_type": "execute_result",
          "data": {
            "text/plain": [
              "(100, 1)"
            ]
          },
          "metadata": {},
          "execution_count": 47
        }
      ]
    },
    {
      "cell_type": "code",
      "metadata": {
        "id": "Be-Q4uL5n5U2"
      },
      "source": [
        "from sklearn import model_selection\n",
        "# data points are divided randomly in training and testing \n",
        "x_train, x_test, y_train , y_test = model_selection.train_test_split(x,y , test_size = 0.3)"
      ],
      "execution_count": null,
      "outputs": []
    },
    {
      "cell_type": "code",
      "metadata": {
        "colab": {
          "base_uri": "https://localhost:8080/"
        },
        "id": "dXZ66mRSoDW1",
        "outputId": "171da0a5-bbda-4f6e-e5cc-d1ac774791f7"
      },
      "source": [
        "from sklearn.linear_model import  LinearRegression\n",
        "# we dont pass 1 d array pass a 2 d array instead so we converted above\n",
        "algo = LinearRegression()\n",
        "algo.fit(x_train , y_train)"
      ],
      "execution_count": null,
      "outputs": [
        {
          "output_type": "execute_result",
          "data": {
            "text/plain": [
              "LinearRegression(copy_X=True, fit_intercept=True, n_jobs=None, normalize=False)"
            ]
          },
          "metadata": {},
          "execution_count": 49
        }
      ]
    },
    {
      "cell_type": "code",
      "metadata": {
        "id": "LoEy4yBromw0"
      },
      "source": [
        "m = algo.coef_\n",
        "c = algo.intercept_"
      ],
      "execution_count": null,
      "outputs": []
    },
    {
      "cell_type": "code",
      "metadata": {
        "colab": {
          "base_uri": "https://localhost:8080/"
        },
        "id": "suSQ4SA0usxN",
        "outputId": "16e928a8-5b36-4102-aa9e-2d58ef16e954"
      },
      "source": [
        "x_train.shape"
      ],
      "execution_count": null,
      "outputs": [
        {
          "output_type": "execute_result",
          "data": {
            "text/plain": [
              "(70, 1)"
            ]
          },
          "metadata": {},
          "execution_count": 51
        }
      ]
    },
    {
      "cell_type": "code",
      "metadata": {
        "colab": {
          "base_uri": "https://localhost:8080/"
        },
        "id": "klumnsWFuyBK",
        "outputId": "3e50d2e8-439c-4302-a969-2f9a515df981"
      },
      "source": [
        "y_train.shape"
      ],
      "execution_count": null,
      "outputs": [
        {
          "output_type": "execute_result",
          "data": {
            "text/plain": [
              "(70,)"
            ]
          },
          "metadata": {},
          "execution_count": 52
        }
      ]
    },
    {
      "cell_type": "markdown",
      "metadata": {
        "id": "nm3f4B-vu1eR"
      },
      "source": [
        "we need to convert x_train back to 1 d inorder to plot it"
      ]
    },
    {
      "cell_type": "code",
      "metadata": {
        "id": "94EI2LIowz_w",
        "colab": {
          "base_uri": "https://localhost:8080/"
        },
        "outputId": "a2bba207-a451-4693-9224-e60cfba8ed81"
      },
      "source": [
        "#r squared value \n",
        "score_test = algo.score(x_test , y_test)\n",
        "\n",
        "print(\"M :\", m)\n",
        "print(\"C :\", c)\n",
        "print(\"score :\", score_test)"
      ],
      "execution_count": null,
      "outputs": [
        {
          "output_type": "stream",
          "name": "stdout",
          "text": [
            "M : [1.29578448]\n",
            "C : 10.486868746392233\n",
            "score : 0.506399156019751\n"
          ]
        }
      ]
    },
    {
      "cell_type": "code",
      "metadata": {
        "colab": {
          "base_uri": "https://localhost:8080/",
          "height": 265
        },
        "id": "AaAP4NmMtUcy",
        "outputId": "20458042-e713-435c-a0ad-f19b6fdbb4a1"
      },
      "source": [
        "import matplotlib.pyplot as plt\n",
        "\n",
        "m = algo.coef_\n",
        "c = algo.intercept_\n",
        "#plot the line \n",
        "x_line =  np.arange(30  ,70 , 0.1)\n",
        "y_line = m*x_line + c \n",
        "plt.plot (x_line , y_line ,\"r\")\n",
        "\n",
        "\n",
        "#scatter plot\n",
        "plt.scatter(x_train.reshape(70)  , y_train)\n",
        "#plt.scatter(x_train, y_train) this would have given an error bcz of dimension mismatch\n",
        "\n",
        "plt.show()\n"
      ],
      "execution_count": null,
      "outputs": [
        {
          "output_type": "display_data",
          "data": {
            "image/png": "[encoded data removed]",
            "text/plain": [
              "<Figure size 432x288 with 1 Axes>"
            ]
          },
          "metadata": {
            "needs_background": "light"
          }
        }
      ]
    },
    {
      "cell_type": "code",
      "metadata": {
        "colab": {
          "base_uri": "https://localhost:8080/",
          "height": 265
        },
        "id": "C8R5yPoiucRi",
        "outputId": "7ea075af-0d24-4367-d5c3-590453b250b7"
      },
      "source": [
        "x_line =  np.arange(30  ,70 , 0.1)\n",
        "y_line = m*x_line + c \n",
        "plt.plot (x_line , y_line ,\"r\")\n",
        "\n",
        "\n",
        "#scatter plot\n",
        "plt.scatter(x_test.reshape(30)  , y_test)\n",
        "#plt.scatter(x_train, y_train) this would have given an error bcz of dimension mismatch\n",
        "\n",
        "plt.show()"
      ],
      "execution_count": null,
      "outputs": [
        {
          "output_type": "display_data",
          "data": {
            "image/png": "[encoded data removed]",
            "text/plain": [
              "<Figure size 432x288 with 1 Axes>"
            ]
          },
          "metadata": {
            "needs_background": "light"
          }
        }
      ]
    },
    {
      "cell_type": "code",
      "metadata": {
        "id": "2566XyPlwStn"
      },
      "source": [
        "y_predict =  algo.predict(x_test)\n"
      ],
      "execution_count": null,
      "outputs": []
    },
    {
      "cell_type": "code",
      "metadata": {
        "colab": {
          "base_uri": "https://localhost:8080/",
          "height": 973
        },
        "id": "VXabIoYewv8S",
        "outputId": "76813a69-504f-49c5-b6f4-08f515b68bfd"
      },
      "source": [
        "x_test = x_test.reshape(30)\n",
        "#print(x_test.shape)\n",
        "#print(y_predict.shape)\n",
        "#print(y_test.shape)\n",
        "\n",
        "d = {'x_test': x_test, 'predicted': y_predict , 'actual' : y_test , 'diff' : y_test - y_predict}\n",
        "compare = pd.DataFrame(data=d)\n",
        "compare\n",
        "\n",
        "#compare = pd.DataFrame(y_predict , y_test)\n",
        "#compare"
      ],
      "execution_count": null,
      "outputs": [
        {
          "output_type": "execute_result",
          "data": {
            "text/html": [
              "<div>\n",
              "<style scoped>\n",
              "    .dataframe tbody tr th:only-of-type {\n",
              "        vertical-align: middle;\n",
              "    }\n",
              "\n",
              "    .dataframe tbody tr th {\n",
              "        vertical-align: top;\n",
              "    }\n",
              "\n",
              "    .dataframe thead th {\n",
              "        text-align: right;\n",
              "    }\n",
              "</style>\n",
              "<table border=\"1\" class=\"dataframe\">\n",
              "  <thead>\n",
              "    <tr style=\"text-align: right;\">\n",
              "      <th></th>\n",
              "      <th>x_test</th>\n",
              "      <th>predicted</th>\n",
              "      <th>actual</th>\n",
              "      <th>diff</th>\n",
              "    </tr>\n",
              "  </thead>\n",
              "  <tbody>\n",
              "    <tr>\n",
              "      <th>91</th>\n",
              "      <td>53.691640</td>\n",
              "      <td>80.059662</td>\n",
              "      <td>85.668203</td>\n",
              "      <td>5.608541</td>\n",
              "    </tr>\n",
              "    <tr>\n",
              "      <th>79</th>\n",
              "      <td>38.954769</td>\n",
              "      <td>60.963854</td>\n",
              "      <td>44.847124</td>\n",
              "      <td>-16.116730</td>\n",
              "    </tr>\n",
              "    <tr>\n",
              "      <th>15</th>\n",
              "      <td>48.955889</td>\n",
              "      <td>73.923149</td>\n",
              "      <td>60.723602</td>\n",
              "      <td>-13.199547</td>\n",
              "    </tr>\n",
              "    <tr>\n",
              "      <th>30</th>\n",
              "      <td>52.223996</td>\n",
              "      <td>78.157912</td>\n",
              "      <td>63.358790</td>\n",
              "      <td>-14.799122</td>\n",
              "    </tr>\n",
              "    <tr>\n",
              "      <th>80</th>\n",
              "      <td>56.901215</td>\n",
              "      <td>84.218580</td>\n",
              "      <td>80.207523</td>\n",
              "      <td>-4.011056</td>\n",
              "    </tr>\n",
              "    <tr>\n",
              "      <th>11</th>\n",
              "      <td>54.351635</td>\n",
              "      <td>80.914874</td>\n",
              "      <td>82.478847</td>\n",
              "      <td>1.563973</td>\n",
              "    </tr>\n",
              "    <tr>\n",
              "      <th>29</th>\n",
              "      <td>50.556760</td>\n",
              "      <td>75.997534</td>\n",
              "      <td>83.432071</td>\n",
              "      <td>7.434538</td>\n",
              "    </tr>\n",
              "    <tr>\n",
              "      <th>25</th>\n",
              "      <td>59.370822</td>\n",
              "      <td>87.418658</td>\n",
              "      <td>74.765564</td>\n",
              "      <td>-12.653094</td>\n",
              "    </tr>\n",
              "    <tr>\n",
              "      <th>64</th>\n",
              "      <td>33.644706</td>\n",
              "      <td>54.083157</td>\n",
              "      <td>69.899682</td>\n",
              "      <td>15.816525</td>\n",
              "    </tr>\n",
              "    <tr>\n",
              "      <th>69</th>\n",
              "      <td>35.678094</td>\n",
              "      <td>56.717989</td>\n",
              "      <td>52.721735</td>\n",
              "      <td>-3.996254</td>\n",
              "    </tr>\n",
              "    <tr>\n",
              "      <th>70</th>\n",
              "      <td>31.588117</td>\n",
              "      <td>51.418260</td>\n",
              "      <td>50.392670</td>\n",
              "      <td>-1.025590</td>\n",
              "    </tr>\n",
              "    <tr>\n",
              "      <th>45</th>\n",
              "      <td>32.669044</td>\n",
              "      <td>52.818909</td>\n",
              "      <td>45.570589</td>\n",
              "      <td>-7.248320</td>\n",
              "    </tr>\n",
              "    <tr>\n",
              "      <th>46</th>\n",
              "      <td>40.166899</td>\n",
              "      <td>62.534513</td>\n",
              "      <td>54.084055</td>\n",
              "      <td>-8.450458</td>\n",
              "    </tr>\n",
              "    <tr>\n",
              "      <th>7</th>\n",
              "      <td>39.299567</td>\n",
              "      <td>61.410637</td>\n",
              "      <td>59.171489</td>\n",
              "      <td>-2.239148</td>\n",
              "    </tr>\n",
              "    <tr>\n",
              "      <th>75</th>\n",
              "      <td>44.492856</td>\n",
              "      <td>68.140021</td>\n",
              "      <td>86.642020</td>\n",
              "      <td>18.501999</td>\n",
              "    </tr>\n",
              "    <tr>\n",
              "      <th>0</th>\n",
              "      <td>32.502345</td>\n",
              "      <td>52.602903</td>\n",
              "      <td>31.707006</td>\n",
              "      <td>-20.895897</td>\n",
              "    </tr>\n",
              "    <tr>\n",
              "      <th>78</th>\n",
              "      <td>55.805733</td>\n",
              "      <td>82.799072</td>\n",
              "      <td>79.550437</td>\n",
              "      <td>-3.248635</td>\n",
              "    </tr>\n",
              "    <tr>\n",
              "      <th>51</th>\n",
              "      <td>44.502538</td>\n",
              "      <td>68.152567</td>\n",
              "      <td>65.101712</td>\n",
              "      <td>-3.050855</td>\n",
              "    </tr>\n",
              "    <tr>\n",
              "      <th>2</th>\n",
              "      <td>61.530358</td>\n",
              "      <td>90.216952</td>\n",
              "      <td>62.562382</td>\n",
              "      <td>-27.654569</td>\n",
              "    </tr>\n",
              "    <tr>\n",
              "      <th>31</th>\n",
              "      <td>35.567830</td>\n",
              "      <td>56.575111</td>\n",
              "      <td>41.412885</td>\n",
              "      <td>-15.162226</td>\n",
              "    </tr>\n",
              "    <tr>\n",
              "      <th>43</th>\n",
              "      <td>43.870613</td>\n",
              "      <td>67.333728</td>\n",
              "      <td>61.424710</td>\n",
              "      <td>-5.909018</td>\n",
              "    </tr>\n",
              "    <tr>\n",
              "      <th>8</th>\n",
              "      <td>48.105042</td>\n",
              "      <td>72.820635</td>\n",
              "      <td>75.331242</td>\n",
              "      <td>2.510607</td>\n",
              "    </tr>\n",
              "    <tr>\n",
              "      <th>19</th>\n",
              "      <td>38.816818</td>\n",
              "      <td>60.785098</td>\n",
              "      <td>56.877213</td>\n",
              "      <td>-3.907885</td>\n",
              "    </tr>\n",
              "    <tr>\n",
              "      <th>4</th>\n",
              "      <td>59.813208</td>\n",
              "      <td>87.991895</td>\n",
              "      <td>87.230925</td>\n",
              "      <td>-0.760970</td>\n",
              "    </tr>\n",
              "    <tr>\n",
              "      <th>14</th>\n",
              "      <td>56.727208</td>\n",
              "      <td>83.993104</td>\n",
              "      <td>81.436192</td>\n",
              "      <td>-2.556912</td>\n",
              "    </tr>\n",
              "    <tr>\n",
              "      <th>55</th>\n",
              "      <td>55.078096</td>\n",
              "      <td>81.856211</td>\n",
              "      <td>71.139728</td>\n",
              "      <td>-10.716483</td>\n",
              "    </tr>\n",
              "    <tr>\n",
              "      <th>58</th>\n",
              "      <td>49.203888</td>\n",
              "      <td>74.244503</td>\n",
              "      <td>84.742698</td>\n",
              "      <td>10.498195</td>\n",
              "    </tr>\n",
              "    <tr>\n",
              "      <th>41</th>\n",
              "      <td>43.318283</td>\n",
              "      <td>66.618027</td>\n",
              "      <td>58.569825</td>\n",
              "      <td>-8.048202</td>\n",
              "    </tr>\n",
              "    <tr>\n",
              "      <th>87</th>\n",
              "      <td>50.282836</td>\n",
              "      <td>75.642588</td>\n",
              "      <td>69.510503</td>\n",
              "      <td>-6.132084</td>\n",
              "    </tr>\n",
              "    <tr>\n",
              "      <th>67</th>\n",
              "      <td>57.362052</td>\n",
              "      <td>84.815726</td>\n",
              "      <td>95.536687</td>\n",
              "      <td>10.720961</td>\n",
              "    </tr>\n",
              "  </tbody>\n",
              "</table>\n",
              "</div>"
            ],
            "text/plain": [
              "       x_test  predicted     actual       diff\n",
              "91  53.691640  80.059662  85.668203   5.608541\n",
              "79  38.954769  60.963854  44.847124 -16.116730\n",
              "15  48.955889  73.923149  60.723602 -13.199547\n",
              "30  52.223996  78.157912  63.358790 -14.799122\n",
              "80  56.901215  84.218580  80.207523  -4.011056\n",
              "11  54.351635  80.914874  82.478847   1.563973\n",
              "29  50.556760  75.997534  83.432071   7.434538\n",
              "25  59.370822  87.418658  74.765564 -12.653094\n",
              "64  33.644706  54.083157  69.899682  15.816525\n",
              "69  35.678094  56.717989  52.721735  -3.996254\n",
              "70  31.588117  51.418260  50.392670  -1.025590\n",
              "45  32.669044  52.818909  45.570589  -7.248320\n",
              "46  40.166899  62.534513  54.084055  -8.450458\n",
              "7   39.299567  61.410637  59.171489  -2.239148\n",
              "75  44.492856  68.140021  86.642020  18.501999\n",
              "0   32.502345  52.602903  31.707006 -20.895897\n",
              "78  55.805733  82.799072  79.550437  -3.248635\n",
              "51  44.502538  68.152567  65.101712  -3.050855\n",
              "2   61.530358  90.216952  62.562382 -27.654569\n",
              "31  35.567830  56.575111  41.412885 -15.162226\n",
              "43  43.870613  67.333728  61.424710  -5.909018\n",
              "8   48.105042  72.820635  75.331242   2.510607\n",
              "19  38.816818  60.785098  56.877213  -3.907885\n",
              "4   59.813208  87.991895  87.230925  -0.760970\n",
              "14  56.727208  83.993104  81.436192  -2.556912\n",
              "55  55.078096  81.856211  71.139728 -10.716483\n",
              "58  49.203888  74.244503  84.742698  10.498195\n",
              "41  43.318283  66.618027  58.569825  -8.048202\n",
              "87  50.282836  75.642588  69.510503  -6.132084\n",
              "67  57.362052  84.815726  95.536687  10.720961"
            ]
          },
          "metadata": {},
          "execution_count": 58
        }
      ]
    },
    {
      "cell_type": "code",
      "metadata": {
        "id": "N_sVZKSYMqZV"
      },
      "source": [
        ""
      ],
      "execution_count": null,
      "outputs": []
    }
  ]
}
