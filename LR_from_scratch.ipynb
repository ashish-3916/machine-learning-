{
  "nbformat": 4,
  "nbformat_minor": 0,
  "metadata": {
    "colab": {
      "name": "LR from scratch.ipynb",
      "provenance": [],
      "authorship_tag": "ABX9TyMQbnShA2fDdXK+EiL0sHHh",
      "include_colab_link": true
    },
    "kernelspec": {
      "name": "python3",
      "display_name": "Python 3"
    },
    "language_info": {
      "name": "python"
    }
  },
  "cells": [
    {
      "cell_type": "markdown",
      "metadata": {
        "id": "view-in-github",
        "colab_type": "text"
      },
      "source": [
        "<a href=\"https://colab.research.google.com/github/ashish-3916/machine-learning-/blob/main/LR_from_scratch.ipynb\" target=\"_parent\"><img src=\"https://colab.research.google.com/assets/colab-badge.svg\" alt=\"Open In Colab\"/></a>"
      ]
    },
    {
      "cell_type": "code",
      "metadata": {
        "id": "N9HOJ27PiKJQ"
      },
      "source": [
        "import numpy as np\n",
        "import pandas as pd\n",
        "\n",
        "data = pd.read_csv(\"data.csv\" , names =[\"X\" ,\"Y\"])\n",
        "data.head()"
      ],
      "execution_count": null,
      "outputs": []
    },
    {
      "cell_type": "code",
      "metadata": {
        "id": "mOZiYb2Oi__N"
      },
      "source": [
        "x = data.X \n",
        "y = data.Y"
      ],
      "execution_count": null,
      "outputs": []
    },
    {
      "cell_type": "code",
      "metadata": {
        "id": "3V1fKBvsjNta"
      },
      "source": [
        "from sklearn import model_selection\n",
        "\n",
        "x_train , x_test , y_train , y_test = model_selection.train_test_split(x , y , test_size = 0.3) #30 percent to test"
      ],
      "execution_count": null,
      "outputs": []
    },
    {
      "cell_type": "code",
      "metadata": {
        "id": "fRR-AU5ejeYI"
      },
      "source": [
        "# we have to write 3 function\n",
        "# fit  -> will return m and c value \n",
        "# predict -> y_p = m * x_test + c \n",
        "# score  \n",
        "# cost function"
      ],
      "execution_count": null,
      "outputs": []
    },
    {
      "cell_type": "code",
      "metadata": {
        "id": "E_jg5piqj0Q4"
      },
      "source": [
        "# fit function\n",
        "\n",
        "# m = { (x*y).mean() - x.mean()*y.mean() } / { x2.mean() - x.mean()*x.mean() } \n",
        "# c = y.mean() - m *x.mean()\n",
        "\n",
        "def fit(x , y):\n",
        "  num = ( x * y ).mean() - (x.mean() * y.mean())\n",
        "  den = (x**2).mean() - (x.mean()**2)\n",
        "  m =  num/ den\n",
        "  c = y.mean() - m * x.mean()\n",
        "  return m , c\n"
      ],
      "execution_count": null,
      "outputs": []
    },
    {
      "cell_type": "code",
      "metadata": {
        "id": "mFYlOWh-mHbO"
      },
      "source": [
        "# predict function\n",
        "\n",
        "def predict(x_test , m , c):\n",
        "  return m * x_test + c"
      ],
      "execution_count": null,
      "outputs": []
    },
    {
      "cell_type": "code",
      "metadata": {
        "id": "ZlSX8gZ3mjWr"
      },
      "source": [
        "#score function\n",
        "\n",
        "# 1 - rss / tss \n",
        "# rss =  sigma (  y -  y_p)^2\n",
        "# tss =  sigma (  y -  y_mean)^2\n",
        "def score(y_pred , y_actual):\n",
        "  y_mean = y_actual.mean()\n",
        "  rss = (( y_actual - y_pred )**2).sum()\n",
        "  tss = (( y_actual - y_mean )**2).sum()\n",
        "  return 1 - rss/tss\n"
      ],
      "execution_count": null,
      "outputs": []
    },
    {
      "cell_type": "code",
      "metadata": {
        "id": "COZLoPY-nZKl"
      },
      "source": [
        "#cost function\n",
        "\n",
        "# sigma ( y - (mx+c))^2  / N\n",
        "\n",
        "def cost_func (x , y , m , c):\n",
        "  return ((y - (m*x + c))**2).mean()"
      ],
      "execution_count": null,
      "outputs": []
    },
    {
      "cell_type": "code",
      "metadata": {
        "id": "ShDMePtYlcYV"
      },
      "source": [
        "m , c =  fit(x_train , y_train)\n",
        "\n",
        "y_pred =  predict(x_test , m , c)\n",
        "sc = score(y_pred , y_test)\n",
        "\n",
        "cost = cost_func(x_train , y_train , m , c)\n",
        "\n",
        "print(\"M , C \"  ,  m , c)\n",
        "print(\"score\",sc)\n",
        "print(\"cost function on training data\" ,cost)\n"
      ],
      "execution_count": null,
      "outputs": []
    }
  ]
}