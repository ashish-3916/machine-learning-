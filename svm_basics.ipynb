{
  "nbformat": 4,
  "nbformat_minor": 0,
  "metadata": {
    "colab": {
      "name": "svm basics.ipynb",
      "provenance": [],
      "authorship_tag": "ABX9TyO4gsZzjxPB4/TC47iN8ry4",
      "include_colab_link": true
    },
    "kernelspec": {
      "name": "python3",
      "display_name": "Python 3"
    },
    "language_info": {
      "name": "python"
    }
  },
  "cells": [
    {
      "cell_type": "markdown",
      "metadata": {
        "id": "view-in-github",
        "colab_type": "text"
      },
      "source": [
        "<a href=\"https://colab.research.google.com/github/ashish-3916/machine-learning-/blob/main/svm_basics.ipynb\" target=\"_parent\"><img src=\"https://colab.research.google.com/assets/colab-badge.svg\" alt=\"Open In Colab\"/></a>"
      ]
    },
    {
      "cell_type": "code",
      "metadata": {
        "id": "Z042Fn43AqQS"
      },
      "source": [
        "import numpy as np\n",
        "from sklearn.svm import SVC\n",
        "import matplotlib.pyplot as plt"
      ],
      "execution_count": 7,
      "outputs": []
    },
    {
      "cell_type": "code",
      "metadata": {
        "id": "v5reEllPA1ao"
      },
      "source": [
        "X = np.array([[1,1],[2,1],[1,2],[1.5,1.5],[3,4],[2,5],[4,3],[7,2],[3,5],[2,6],[6,2],[3,4],[4,4]])\n",
        "y = [0,1,0,0,1,1,1,1,0,1,1,1,1]"
      ],
      "execution_count": 16,
      "outputs": []
    },
    {
      "cell_type": "code",
      "metadata": {
        "colab": {
          "base_uri": "https://localhost:8080/",
          "height": 265
        },
        "id": "1a9fQ1ZBA38l",
        "outputId": "01e2dfc1-c1a0-4b7f-a907-5d9b0030c32f"
      },
      "source": [
        "X_x1 = X[:,0]\n",
        "X_x2 = X[:,1]\n",
        "plt.scatter(X_x1, X_x2, c = y)\n",
        "plt.show()"
      ],
      "execution_count": 17,
      "outputs": [
        {
          "output_type": "display_data",
          "data": {
            "image/png": "[encoded data removed]",
            "text/plain": [
              "<Figure size 432x288 with 1 Axes>"
            ]
          },
          "metadata": {
            "needs_background": "light"
          }
        }
      ]
    },
    {
      "cell_type": "code",
      "metadata": {
        "colab": {
          "base_uri": "https://localhost:8080/"
        },
        "id": "_AgWazMwA7QL",
        "outputId": "75ca956b-b0b5-4941-bede-f056febc833b"
      },
      "source": [
        "svcLinear =  SVC(kernel='linear', C=1).fit(X, y)\n",
        "svcLinear.coef_, svcLinear.intercept_"
      ],
      "execution_count": 18,
      "outputs": [
        {
          "output_type": "execute_result",
          "data": {
            "text/plain": [
              "(array([[0.5, 0.5]]), array([-2.5]))"
            ]
          },
          "metadata": {},
          "execution_count": 18
        }
      ]
    },
    {
      "cell_type": "code",
      "metadata": {
        "colab": {
          "base_uri": "https://localhost:8080/",
          "height": 269
        },
        "id": "W7U90AcrBCL9",
        "outputId": "9a61e2e8-5721-4b07-8799-1bb326ba8449"
      },
      "source": [
        "x1 = np.array([0, 5])\n",
        "x2 = -1 *(svcLinear.intercept_ + svcLinear.coef_[0][0] * x1)/svcLinear.coef_[0][1]\n",
        "plt.plot(x1, x2)\n",
        "plt.scatter(X_x1, X_x2, c = y)\n",
        "plt.axis([0, 8, 0, 8])\n",
        "plt.show()"
      ],
      "execution_count": 19,
      "outputs": [
        {
          "output_type": "display_data",
          "data": {
            "image/png": "[encoded data removed]",
            "text/plain": [
              "<Figure size 432x288 with 1 Axes>"
            ]
          },
          "metadata": {
            "needs_background": "light"
          }
        }
      ]
    },
    {
      "cell_type": "markdown",
      "metadata": {
        "id": "RGsUx2VVBIZv"
      },
      "source": [
        "increase the value of C to overfit the training data .\n"
      ]
    },
    {
      "cell_type": "code",
      "metadata": {
        "id": "YcUhBrU4BG8B"
      },
      "source": [
        ""
      ],
      "execution_count": 19,
      "outputs": []
    }
  ]
}