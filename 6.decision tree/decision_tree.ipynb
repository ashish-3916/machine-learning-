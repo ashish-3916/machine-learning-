{
  "nbformat": 4,
  "nbformat_minor": 0,
  "metadata": {
    "colab": {
      "name": "decision tree.ipynb",
      "provenance": [],
      "authorship_tag": "ABX9TyNJAQtO9gcj07hX9N6v2uvn",
      "include_colab_link": true
    },
    "kernelspec": {
      "name": "python3",
      "display_name": "Python 3"
    },
    "language_info": {
      "name": "python"
    }
  },
  "cells": [
    {
      "cell_type": "markdown",
      "metadata": {
        "id": "view-in-github",
        "colab_type": "text"
      },
      "source": [
        "<a href=\"https://colab.research.google.com/github/ashish-3916/machine-learning-/blob/main/decision_tree.ipynb\" target=\"_parent\"><img src=\"https://colab.research.google.com/assets/colab-badge.svg\" alt=\"Open In Colab\"/></a>"
      ]
    },
    {
      "cell_type": "code",
      "metadata": {
        "id": "bn7jBqMYcrWK"
      },
      "source": [
        ""
      ],
      "execution_count": null,
      "outputs": []
    },
    {
      "cell_type": "code",
      "metadata": {
        "id": "Z-0CrUSZRGx-"
      },
      "source": [
        "from sklearn import datasets\n",
        "from sklearn.tree import DecisionTreeClassifier\n",
        "from sklearn.tree import export_graphviz # download the pdf of decision tree\n",
        "import pydotplus # used to convert dot_data to pdf\n",
        "from sklearn.model_selection import train_test_split"
      ],
      "execution_count": null,
      "outputs": []
    },
    {
      "cell_type": "code",
      "metadata": {
        "colab": {
          "base_uri": "https://localhost:8080/"
        },
        "id": "toUeCTcCclAU",
        "outputId": "27485296-2a62-41a1-8cf4-5d84afeec415"
      },
      "source": [
        "iris = datasets.load_iris()\n",
        "print(iris.feature_names)\n",
        "print(iris.target_names)\n",
        "x_train , x_test , y_train , y_test = train_test_split(iris.data , iris.target , random_state =1)"
      ],
      "execution_count": null,
      "outputs": [
        {
          "output_type": "stream",
          "name": "stdout",
          "text": [
            "['sepal length (cm)', 'sepal width (cm)', 'petal length (cm)', 'petal width (cm)']\n",
            "['setosa' 'versicolor' 'virginica']\n"
          ]
        }
      ]
    },
    {
      "cell_type": "code",
      "metadata": {
        "colab": {
          "base_uri": "https://localhost:8080/"
        },
        "id": "gcO5A9x-cog-",
        "outputId": "c4fdda33-6dab-4129-9748-1b6755b762f2"
      },
      "source": [
        "clf = DecisionTreeClassifier();\n",
        "clf.fit(x_train , y_train)"
      ],
      "execution_count": null,
      "outputs": [
        {
          "output_type": "execute_result",
          "data": {
            "text/plain": [
              "DecisionTreeClassifier()"
            ]
          },
          "metadata": {},
          "execution_count": 3
        }
      ]
    },
    {
      "cell_type": "code",
      "metadata": {
        "colab": {
          "base_uri": "https://localhost:8080/"
        },
        "id": "4If7YpLTdhYA",
        "outputId": "1ffb9370-dd3f-4db4-952e-89bae0ad35fa"
      },
      "source": [
        "#dot_data =export_graphviz(clf) # extension is dot data \n",
        " \n",
        "dot_data =export_graphviz(clf ,\n",
        "                          feature_names = iris.feature_names ,\n",
        "                          class_names = iris.target_names)\n",
        "\n",
        "# we need to convert it into pdf\n",
        "\n",
        "graph = pydotplus.graph_from_dot_data(dot_data)\n",
        "graph.write_pdf(\"iris.pdf\") # you can find that the pdf is in files now and analysis the data"
      ],
      "execution_count": null,
      "outputs": [
        {
          "output_type": "execute_result",
          "data": {
            "text/plain": [
              "True"
            ]
          },
          "metadata": {},
          "execution_count": 4
        }
      ]
    },
    {
      "cell_type": "code",
      "metadata": {
        "id": "FfFlMTKKcthO"
      },
      "source": [
        "y_train_pred = clf.predict(x_train)\n",
        "y_test_pred = clf.predict(x_test)"
      ],
      "execution_count": null,
      "outputs": []
    },
    {
      "cell_type": "code",
      "metadata": {
        "colab": {
          "base_uri": "https://localhost:8080/"
        },
        "id": "-ZM8yt0dcwyU",
        "outputId": "33da2c5c-2c38-458c-c949-10c7d9c7a5b0"
      },
      "source": [
        "from sklearn.metrics import confusion_matrix\n",
        "\n",
        "cf_train = confusion_matrix(y_train , y_train_pred)\n",
        "cf_test = confusion_matrix(y_test , y_test_pred)\n",
        "print(cf_train)"
      ],
      "execution_count": null,
      "outputs": [
        {
          "output_type": "stream",
          "name": "stdout",
          "text": [
            "[[37  0  0]\n",
            " [ 0 34  0]\n",
            " [ 0  0 41]]\n"
          ]
        }
      ]
    },
    {
      "cell_type": "code",
      "metadata": {
        "colab": {
          "base_uri": "https://localhost:8080/"
        },
        "id": "ijG7hwRTc2gt",
        "outputId": "cb12fa7f-2af2-44e6-93b0-270e7267ff32"
      },
      "source": [
        "print(cf_test)"
      ],
      "execution_count": null,
      "outputs": [
        {
          "output_type": "stream",
          "name": "stdout",
          "text": [
            "[[13  0  0]\n",
            " [ 0 15  1]\n",
            " [ 0  0  9]]\n"
          ]
        }
      ]
    },
    {
      "cell_type": "code",
      "metadata": {
        "id": "tV6E71gSc7ne"
      },
      "source": [
        ""
      ],
      "execution_count": null,
      "outputs": []
    }
  ]
}