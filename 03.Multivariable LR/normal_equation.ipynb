{
  "nbformat": 4,
  "nbformat_minor": 0,
  "metadata": {
    "colab": {
      "name": "normal equation.ipynb",
      "provenance": [],
      "authorship_tag": "ABX9TyNDCSqvPHBuXLWr3I7QYHgE",
      "include_colab_link": true
    },
    "kernelspec": {
      "name": "python3",
      "display_name": "Python 3"
    },
    "language_info": {
      "name": "python"
    }
  },
  "cells": [
    {
      "cell_type": "markdown",
      "metadata": {
        "id": "view-in-github",
        "colab_type": "text"
      },
      "source": [
        "<a href=\"https://colab.research.google.com/github/ashish-3916/machine-learning-/blob/main/3.Multivariable%20LR/normal_equation.ipynb\" target=\"_parent\"><img src=\"https://colab.research.google.com/assets/colab-badge.svg\" alt=\"Open In Colab\"/></a>"
      ]
    },
    {
      "cell_type": "code",
      "metadata": {
        "id": "J7LMfHV81dDg"
      },
      "source": [
        "from sklearn import datasets\n",
        "boston =  datasets.load_boston()\n",
        "\n",
        "X = boston.data\n",
        "Y = boston.target.reshape(-1 ,1)\n",
        "\n",
        "from sklearn import model_selection\n",
        "X1_train , X1_test , Y_train , Y_test = model_selection.train_test_split(X,Y, random_state = 0)"
      ],
      "execution_count": 31,
      "outputs": []
    },
    {
      "cell_type": "code",
      "metadata": {
        "colab": {
          "base_uri": "https://localhost:8080/"
        },
        "id": "vg7Vncc_1qNq",
        "outputId": "3bceee5f-7e4d-4bff-b073-7235016c0831"
      },
      "source": [
        "import numpy as np\n",
        "# normal form - (xT * x) ^-1 * xT * Y \n",
        "inv =  np.linalg.inv(np.matmul(X1_train.transpose(), X1_train))\n",
        "parameters = np.matmul(inv , X1_train.transpose() )\n",
        "parameters = np.matmul(parameters , Y_train )\n",
        "parameters"
      ],
      "execution_count": 32,
      "outputs": [
        {
          "output_type": "stream",
          "name": "stdout",
          "text": [
            "(13, 13) (13, 379) (379, 1)\n"
          ]
        },
        {
          "output_type": "execute_result",
          "data": {
            "text/plain": [
              "array([[-0.11631155],\n",
              "       [ 0.04582511],\n",
              "       [-0.03406271],\n",
              "       [ 2.54347348],\n",
              "       [-0.07737062],\n",
              "       [ 5.97510447],\n",
              "       [-0.01528812],\n",
              "       [-0.92550879],\n",
              "       [ 0.1045704 ],\n",
              "       [-0.00864844],\n",
              "       [-0.4486441 ],\n",
              "       [ 0.01412772],\n",
              "       [-0.38141142]])"
            ]
          },
          "metadata": {},
          "execution_count": 32
        }
      ]
    },
    {
      "cell_type": "code",
      "metadata": {
        "id": "e6nhrunj1-dd"
      },
      "source": [
        ""
      ],
      "execution_count": null,
      "outputs": []
    }
  ]
}