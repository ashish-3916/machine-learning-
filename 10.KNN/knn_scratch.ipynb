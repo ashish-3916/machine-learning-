{
  "nbformat": 4,
  "nbformat_minor": 0,
  "metadata": {
    "colab": {
      "name": "knn_scratch.ipynb",
      "provenance": [],
      "authorship_tag": "ABX9TyOB/cQz47VO65xGG4O1ND8Z",
      "include_colab_link": true
    },
    "kernelspec": {
      "name": "python3",
      "display_name": "Python 3"
    },
    "language_info": {
      "name": "python"
    }
  },
  "cells": [
    {
      "cell_type": "markdown",
      "metadata": {
        "id": "view-in-github",
        "colab_type": "text"
      },
      "source": [
        "<a href=\"https://colab.research.google.com/github/ashish-3916/machine-learning-/blob/main/knn_scratch.ipynb\" target=\"_parent\"><img src=\"https://colab.research.google.com/assets/colab-badge.svg\" alt=\"Open In Colab\"/></a>"
      ]
    },
    {
      "cell_type": "code",
      "metadata": {
        "id": "_GbiKNolVspe"
      },
      "source": [
        "from sklearn import datasets\n",
        "from sklearn.neighbors import KNeighborsClassifier\n",
        "from sklearn.model_selection import train_test_split\n",
        "from sklearn.metrics import accuracy_score\n",
        "from collections import Counter"
      ],
      "execution_count": 13,
      "outputs": []
    },
    {
      "cell_type": "code",
      "metadata": {
        "id": "f0wfd90gWGZ3"
      },
      "source": [
        "dataset = datasets.load_breast_cancer()\n",
        "X_train, X_test, Y_train, Y_test = train_test_split(dataset.data, dataset.target, test_size = 0.2, random_state = 0)\n"
      ],
      "execution_count": 14,
      "outputs": []
    },
    {
      "cell_type": "code",
      "metadata": {
        "id": "ZhEGl6EKWJip"
      },
      "source": [
        "def train(x, y):\n",
        "    return"
      ],
      "execution_count": 15,
      "outputs": []
    },
    {
      "cell_type": "code",
      "metadata": {
        "id": "-4suBE1mWbx6"
      },
      "source": [
        "def predict_one(x_train, y_train, x_test, k):\n",
        "    distances = [] # distances from all traiing data\n",
        "    for i in range(len(x_train)):\n",
        "        distance = ((x_train[i, :] - x_test)**2).sum()  # euclid distance \n",
        "        distances.append([distance, i]) # strore the distance and the ith point \n",
        "    distances = sorted(distances) # sort of basis of distance , c++\n",
        "    targets = []\n",
        "    for i in range(k): # check over k neighbours \n",
        "        index_of_training_data = distances[i][1]\n",
        "        targets.append(y_train[index_of_training_data])\n",
        "    return Counter(targets).most_common(1)[0][0]"
      ],
      "execution_count": 16,
      "outputs": []
    },
    {
      "cell_type": "code",
      "metadata": {
        "id": "bU90HuyiWPf4"
      },
      "source": [
        "def predict(x_train, y_train, x_test_data, k):\n",
        "    predictions = []\n",
        "    for x_test in x_test_data:\n",
        "        predictions.append(predict_one(x_train, y_train, x_test, k))\n",
        "    return predictions"
      ],
      "execution_count": 17,
      "outputs": []
    },
    {
      "cell_type": "code",
      "metadata": {
        "colab": {
          "base_uri": "https://localhost:8080/"
        },
        "id": "Dz8vQkAFWioj",
        "outputId": "2022959c-d675-4580-e30f-858ab49630d4"
      },
      "source": [
        "y_pred = predict(X_train, Y_train, X_test, 7)\n",
        "accuracy_score(Y_test, y_pred)"
      ],
      "execution_count": 18,
      "outputs": [
        {
          "output_type": "execute_result",
          "data": {
            "text/plain": [
              "0.9473684210526315"
            ]
          },
          "metadata": {},
          "execution_count": 18
        }
      ]
    },
    {
      "cell_type": "code",
      "metadata": {
        "id": "nFH4IsjLWjai"
      },
      "source": [
        ""
      ],
      "execution_count": null,
      "outputs": []
    }
  ]
}