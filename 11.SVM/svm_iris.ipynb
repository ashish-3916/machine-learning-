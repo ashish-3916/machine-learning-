{
  "nbformat": 4,
  "nbformat_minor": 0,
  "metadata": {
    "colab": {
      "name": "svm_iris.ipynb",
      "provenance": [],
      "authorship_tag": "ABX9TyN8yrkp6ombNSZeScPx3LWC",
      "include_colab_link": true
    },
    "kernelspec": {
      "name": "python3",
      "display_name": "Python 3"
    },
    "language_info": {
      "name": "python"
    }
  },
  "cells": [
    {
      "cell_type": "markdown",
      "metadata": {
        "id": "view-in-github",
        "colab_type": "text"
      },
      "source": [
        "<a href=\"https://colab.research.google.com/github/ashish-3916/machine-learning-/blob/main/svm_iris.ipynb\" target=\"_parent\"><img src=\"https://colab.research.google.com/assets/colab-badge.svg\" alt=\"Open In Colab\"/></a>"
      ]
    },
    {
      "cell_type": "code",
      "metadata": {
        "id": "CHOeV75cHmop"
      },
      "source": [
        "from sklearn import svm, datasets\n",
        "import numpy as np\n",
        "from sklearn.model_selection import train_test_split\n",
        "import matplotlib.pyplot as plt"
      ],
      "execution_count": 1,
      "outputs": []
    },
    {
      "cell_type": "code",
      "metadata": {
        "id": "RwktqALmIKf_"
      },
      "source": [
        "iris = datasets.load_iris()\n",
        "x = iris.data[:, 0:2]\n",
        "y = iris.target"
      ],
      "execution_count": 2,
      "outputs": []
    },
    {
      "cell_type": "code",
      "metadata": {
        "id": "_2G0Oq9LIMi2"
      },
      "source": [
        "x_train,x_test, y_train, y_test = train_test_split(x, y)"
      ],
      "execution_count": 18,
      "outputs": []
    },
    {
      "cell_type": "code",
      "metadata": {
        "colab": {
          "base_uri": "https://localhost:8080/"
        },
        "id": "HLT9ey78IO2V",
        "outputId": "2ec18954-0fa4-4840-d84a-6d23f933e0e7"
      },
      "source": [
        "clf = svm.SVC(kernel = 'rbf')\n",
        "clf.fit(x_train, y_train)"
      ],
      "execution_count": 27,
      "outputs": [
        {
          "output_type": "execute_result",
          "data": {
            "text/plain": [
              "SVC()"
            ]
          },
          "metadata": {},
          "execution_count": 27
        }
      ]
    },
    {
      "cell_type": "code",
      "metadata": {
        "id": "xxDaMaTEI6Dt"
      },
      "source": [
        "# SVC(C=1.0, cache_size=200, class_weight=None, coef0=0.0,\n",
        "# \t\t  decision_function_shape='ovr', degree=3, gamma='auto', kernel='linear',\n",
        "# \t\t  max_iter=-1, probability=False, random_state=None, shrinking=True,\n",
        "# \t\t  tol=0.001, verbose=False)"
      ],
      "execution_count": 28,
      "outputs": []
    },
    {
      "cell_type": "code",
      "metadata": {
        "colab": {
          "base_uri": "https://localhost:8080/"
        },
        "id": "NOtz2QRAIRk5",
        "outputId": "644c83b8-0794-4ffb-b85e-3d59a7b901b1"
      },
      "source": [
        "clf.score(x_test, y_test)"
      ],
      "execution_count": 29,
      "outputs": [
        {
          "output_type": "execute_result",
          "data": {
            "text/plain": [
              "0.7894736842105263"
            ]
          },
          "metadata": {},
          "execution_count": 29
        }
      ]
    },
    {
      "cell_type": "code",
      "metadata": {
        "id": "D3yBro0nIYSv"
      },
      "source": [
        "def makegrid(x1, x2, h = 0.02):\n",
        "    x1_min, x1_max = x1.min() - 1, x1.max() + 1\n",
        "    x2_min, x2_max = x2.min() - 1, x2.max() + 1\n",
        "    a = np.arange(x1_min,x1_max,h)\n",
        "    b = np.arange(x2_min, x2_max, h)\n",
        "    xx, yy = np.meshgrid(a, b)\n",
        "    return xx, yy"
      ],
      "execution_count": 30,
      "outputs": []
    },
    {
      "cell_type": "code",
      "metadata": {
        "colab": {
          "base_uri": "https://localhost:8080/",
          "height": 265
        },
        "id": "8jWs6SNsIaEt",
        "outputId": "7ac9adb9-a795-4788-af3e-a5bf49e6b97b"
      },
      "source": [
        "xx, yy = makegrid(x[:, 0], x[:, 1])\n",
        "predictions = clf.predict(np.c_[xx.ravel(), yy.ravel()])\n",
        "plt.scatter(xx.ravel(), yy.ravel(), c = predictions)\n",
        "plt.show()"
      ],
      "execution_count": 31,
      "outputs": [
        {
          "output_type": "display_data",
          "data": {
            "image/png": "[encoded data removed]",
            "text/plain": [
              "<Figure size 432x288 with 1 Axes>"
            ]
          },
          "metadata": {
            "needs_background": "light"
          }
        }
      ]
    },
    {
      "cell_type": "code",
      "metadata": {
        "id": "i9mmX-QvIdNj"
      },
      "source": [
        ""
      ],
      "execution_count": 31,
      "outputs": []
    }
  ]
}