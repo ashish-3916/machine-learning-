{
  "nbformat": 4,
  "nbformat_minor": 0,
  "metadata": {
    "colab": {
      "name": "gradient decent.ipynb",
      "provenance": [],
      "authorship_tag": "ABX9TyPAvtjwt3LFD1aAKT1/E7aL",
      "include_colab_link": true
    },
    "kernelspec": {
      "name": "python3",
      "display_name": "Python 3"
    },
    "language_info": {
      "name": "python"
    }
  },
  "cells": [
    {
      "cell_type": "markdown",
      "metadata": {
        "id": "view-in-github",
        "colab_type": "text"
      },
      "source": [
        "<a href=\"https://colab.research.google.com/github/ashish-3916/machine-learning-/blob/main/gradient_decent.ipynb\" target=\"_parent\"><img src=\"https://colab.research.google.com/assets/colab-badge.svg\" alt=\"Open In Colab\"/></a>"
      ]
    },
    {
      "cell_type": "code",
      "metadata": {
        "id": "EXXB-CZ9_mh7"
      },
      "source": [
        "import numpy as np\n",
        "import pandas as pd"
      ],
      "execution_count": 7,
      "outputs": []
    },
    {
      "cell_type": "code",
      "metadata": {
        "id": "G8bu98ojBSss"
      },
      "source": [
        "# m' = m - a *der_m\n",
        "# c' = c - a *der_c\n",
        "\n",
        "# der_m =  2/n * sigma (Yi - mXi - c)(-Xi)\n",
        "# der_c =  2/n * sigma (Yi - mXi - c)(-1)\n",
        "\n",
        "def step (data , alpha , m , c):\n",
        "  der_m = 2 * ((data.Y - m * data.X - c)* (data.X *-1)).mean()\n",
        "  der_c = 2 * ((data.Y - m * data.X - c)* (-1)).mean()\n",
        "\n",
        "  new_m =  m - alpha *der_m\n",
        "  new_c =  c - alpha *der_c\n",
        "\n",
        "  return new_m , new_c"
      ],
      "execution_count": 50,
      "outputs": []
    },
    {
      "cell_type": "code",
      "metadata": {
        "id": "bIfTk6ZJAtUL"
      },
      "source": [
        "def gradient_decent(data , alpha , iteration):\n",
        "  m ,c  = 0 , 0\n",
        "  for i in range (iteration):\n",
        "   m , c = step(data, alpha ,m , c)\n",
        "  return m , c "
      ],
      "execution_count": 51,
      "outputs": []
    },
    {
      "cell_type": "code",
      "metadata": {
        "id": "wVbYiGroAKHV"
      },
      "source": [
        "def run() :\n",
        "  data =  pd.read_csv(\"data.csv\" , names = [\"X\" , \"Y\"])\n",
        "  learning_rate = 0.0001 # we might get overflow(nan value if alpha is way to low , bcz m may overshoot sauch that we can't store it)\n",
        "  iteration = 100\n",
        "  m ,c = gradient_decent(data , learning_rate  , iteration )\n",
        "  print (m , c)"
      ],
      "execution_count": 52,
      "outputs": []
    },
    {
      "cell_type": "code",
      "metadata": {
        "colab": {
          "base_uri": "https://localhost:8080/"
        },
        "id": "ekTWhGK8DFA7",
        "outputId": "ef137747-d951-46c0-cfcf-d766815782dc"
      },
      "source": [
        "run()"
      ],
      "execution_count": 53,
      "outputs": [
        {
          "output_type": "stream",
          "name": "stdout",
          "text": [
            "1.4788027175308358 0.03507497059234175\n"
          ]
        }
      ]
    },
    {
      "cell_type": "markdown",
      "metadata": {
        "id": "F4oAnouFExH-"
      },
      "source": [
        "just have fun with various alpha and iteration\n",
        "\n",
        "looks like 10 iteration are enough"
      ]
    },
    {
      "cell_type": "code",
      "metadata": {
        "id": "Z_Han4n6DR3f"
      },
      "source": [
        ""
      ],
      "execution_count": null,
      "outputs": []
    }
  ]
}