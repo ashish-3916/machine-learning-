{
  "nbformat": 4,
  "nbformat_minor": 0,
  "metadata": {
    "colab": {
      "name": "feature scaling.ipynb",
      "provenance": [],
      "authorship_tag": "ABX9TyNRg6XE1IpYhKnoHFEsl6he",
      "include_colab_link": true
    },
    "kernelspec": {
      "name": "python3",
      "display_name": "Python 3"
    },
    "language_info": {
      "name": "python"
    }
  },
  "cells": [
    {
      "cell_type": "markdown",
      "metadata": {
        "id": "view-in-github",
        "colab_type": "text"
      },
      "source": [
        "<a href=\"https://colab.research.google.com/github/ashish-3916/machine-learning-/blob/main/feature_scaling.ipynb\" target=\"_parent\"><img src=\"https://colab.research.google.com/assets/colab-badge.svg\" alt=\"Open In Colab\"/></a>"
      ]
    },
    {
      "cell_type": "code",
      "metadata": {
        "id": "khP1AXNJp5dS"
      },
      "source": [
        "import numpy as np\n",
        "from sklearn import preprocessing"
      ],
      "execution_count": 1,
      "outputs": []
    },
    {
      "cell_type": "code",
      "metadata": {
        "id": "1wBp_GexqFSw"
      },
      "source": [
        "X = np.array ([\n",
        "               [1., -1., 2,],\n",
        "               [2.,  0., 0,],\n",
        "               [0.,  1.,-1,] ])\n",
        "  # row -> datapoints \n",
        "  # col -> features"
      ],
      "execution_count": 3,
      "outputs": []
    },
    {
      "cell_type": "code",
      "metadata": {
        "colab": {
          "base_uri": "https://localhost:8080/"
        },
        "id": "f_ohuJgBqXJt",
        "outputId": "d3583398-0c92-47a4-bd60-9e16e21f22fc"
      },
      "source": [
        "X_scaled = preprocessing.scale(X) # make mean as 0 and variance as 0\n",
        "X_scaled"
      ],
      "execution_count": 12,
      "outputs": [
        {
          "output_type": "execute_result",
          "data": {
            "text/plain": [
              "array([[ 0.        , -1.22474487,  1.33630621],\n",
              "       [ 1.22474487,  0.        , -0.26726124],\n",
              "       [-1.22474487,  1.22474487, -1.06904497]])"
            ]
          },
          "metadata": {},
          "execution_count": 12
        }
      ]
    },
    {
      "cell_type": "code",
      "metadata": {
        "colab": {
          "base_uri": "https://localhost:8080/"
        },
        "id": "Q4MBttFSqhqx",
        "outputId": "67a405f6-d8aa-4075-fcf1-91cb1b2f6baf"
      },
      "source": [
        "X_scaled.mean(axis=0)  # mean of every feature is 0"
      ],
      "execution_count": 7,
      "outputs": [
        {
          "output_type": "execute_result",
          "data": {
            "text/plain": [
              "array([0., 0., 0.])"
            ]
          },
          "metadata": {},
          "execution_count": 7
        }
      ]
    },
    {
      "cell_type": "code",
      "metadata": {
        "colab": {
          "base_uri": "https://localhost:8080/"
        },
        "id": "yXO2M9kvqnsL",
        "outputId": "8e4d4596-ccdd-4de4-db59-acc3ac925a3c"
      },
      "source": [
        "X_scaled.std(axis=0)  # variance of every feature is 1\n"
      ],
      "execution_count": 10,
      "outputs": [
        {
          "output_type": "execute_result",
          "data": {
            "text/plain": [
              "array([1., 1., 1.])"
            ]
          },
          "metadata": {},
          "execution_count": 10
        }
      ]
    },
    {
      "cell_type": "markdown",
      "metadata": {
        "id": "Q4WK7ec4r2ri"
      },
      "source": [
        "one thing we need to take notice is we have to do feature scaling combined on testing and training data , as if we do them separately then mean and other parameters would be differnet bcz of kind of data we have, so make sure we do feature scaling combined\n",
        "\n",
        "---\n",
        "\n",
        "but what if we don't have the testing data  ? Huh , how can me improve our featuring so it results are good with unknown training data  ?\n",
        "\n",
        "---\n",
        "\n",
        "when we scale our training data we store the parameters we scale them with and them use those parameters to unknown testing data too.\n",
        "\n",
        "---\n",
        "\n",
        "we have a function for that"
      ]
    },
    {
      "cell_type": "code",
      "metadata": {
        "colab": {
          "base_uri": "https://localhost:8080/"
        },
        "id": "LAWKcVP_rTBC",
        "outputId": "4d796deb-45e1-4cc5-8968-f40fe170e7ed"
      },
      "source": [
        "scaler = preprocessing.StandardScaler() # we can pass parameters(mean , variance )# object\n",
        "scaler.fit(X)  # store the paramters and also scale the testing data\n",
        "\n",
        "scaler.transform(X) # transform any unknown data , say X  "
      ],
      "execution_count": 18,
      "outputs": [
        {
          "output_type": "execute_result",
          "data": {
            "text/plain": [
              "array([[ 0.        , -1.22474487,  1.33630621],\n",
              "       [ 1.22474487,  0.        , -0.26726124],\n",
              "       [-1.22474487,  1.22474487, -1.06904497]])"
            ]
          },
          "metadata": {},
          "execution_count": 18
        }
      ]
    },
    {
      "cell_type": "code",
      "metadata": {
        "id": "zp6auMfvtgR3"
      },
      "source": [
        "# we can check that its the same"
      ],
      "execution_count": 19,
      "outputs": []
    },
    {
      "cell_type": "code",
      "metadata": {
        "colab": {
          "base_uri": "https://localhost:8080/"
        },
        "id": "4-DDkhCnt_zo",
        "outputId": "9d038dfd-dae1-4cdc-c4f8-e06f9001d57b"
      },
      "source": [
        "X_test = [[1 , 1, 0]]\n",
        "scaler.transform(X_test)"
      ],
      "execution_count": 20,
      "outputs": [
        {
          "output_type": "execute_result",
          "data": {
            "text/plain": [
              "array([[ 0.        ,  1.22474487, -0.26726124]])"
            ]
          },
          "metadata": {},
          "execution_count": 20
        }
      ]
    },
    {
      "cell_type": "code",
      "metadata": {
        "id": "M1Z3iuTmuQZW"
      },
      "source": [
        "# we have others scalers to (min_max_scaler  , standard)  checkout documentation"
      ],
      "execution_count": 21,
      "outputs": []
    },
    {
      "cell_type": "code",
      "metadata": {
        "id": "pbItNaQiucAs"
      },
      "source": [
        ""
      ],
      "execution_count": null,
      "outputs": []
    }
  ]
}