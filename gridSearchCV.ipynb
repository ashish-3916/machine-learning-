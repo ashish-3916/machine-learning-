{
  "nbformat": 4,
  "nbformat_minor": 0,
  "metadata": {
    "colab": {
      "name": "gridSearchCV.ipynb",
      "provenance": [],
      "authorship_tag": "ABX9TyMYssmDEIGUsq40U7CUcXQ3",
      "include_colab_link": true
    },
    "kernelspec": {
      "name": "python3",
      "display_name": "Python 3"
    },
    "language_info": {
      "name": "python"
    }
  },
  "cells": [
    {
      "cell_type": "markdown",
      "metadata": {
        "id": "view-in-github",
        "colab_type": "text"
      },
      "source": [
        "<a href=\"https://colab.research.google.com/github/ashish-3916/machine-learning-/blob/main/gridSearchCV.ipynb\" target=\"_parent\"><img src=\"https://colab.research.google.com/assets/colab-badge.svg\" alt=\"Open In Colab\"/></a>"
      ]
    },
    {
      "cell_type": "markdown",
      "metadata": {
        "id": "TSLVFZUPMOqs"
      },
      "source": [
        "cross validation on the data to find the best parameters to train on \n",
        "\n",
        "\n",
        "tuning hyperparameters\n",
        "\n",
        "\n",
        "knn and svm  cross validation\n",
        "\n",
        "grid search CV does all the things itself and give the best hyper-parameters on the given datasets"
      ]
    },
    {
      "cell_type": "code",
      "metadata": {
        "id": "0FVXEZ1CLGux"
      },
      "source": [
        "from sklearn import svm, datasets\n",
        "from sklearn.model_selection import train_test_split\n",
        "from sklearn.model_selection import GridSearchCV\n",
        "from sklearn.neighbors import KNeighborsClassifier"
      ],
      "execution_count": 14,
      "outputs": []
    },
    {
      "cell_type": "code",
      "metadata": {
        "id": "DE2eDEZxLSRP"
      },
      "source": [
        "iris = datasets.load_iris()\n",
        "x = iris.data\n",
        "y = iris.target"
      ],
      "execution_count": 15,
      "outputs": []
    },
    {
      "cell_type": "code",
      "metadata": {
        "id": "Ht85ySrgLUTl"
      },
      "source": [
        "x_train,x_test, y_train, y_test = train_test_split(x, y)"
      ],
      "execution_count": 16,
      "outputs": []
    },
    {
      "cell_type": "code",
      "metadata": {
        "colab": {
          "base_uri": "https://localhost:8080/"
        },
        "id": "H_lk8EZsLW-4",
        "outputId": "08e396c8-c081-4233-9d9a-47771c6c2de5"
      },
      "source": [
        "clf = KNeighborsClassifier()\n",
        "grid = {\"n_neighbors\":[3,5,7,9,11]}\n",
        "abc = GridSearchCV(clf, grid)\n",
        "abc.fit(x_train, y_train)"
      ],
      "execution_count": 17,
      "outputs": [
        {
          "output_type": "execute_result",
          "data": {
            "text/plain": [
              "GridSearchCV(estimator=KNeighborsClassifier(),\n",
              "             param_grid={'n_neighbors': [3, 5, 7, 9, 11]})"
            ]
          },
          "metadata": {},
          "execution_count": 17
        }
      ]
    },
    {
      "cell_type": "code",
      "metadata": {
        "id": "ZehWbvQnLZj7"
      },
      "source": [
        "# GridSearchCV(cv=None, error_score='raise',\n",
        "# \t\t       estimator=KNeighborsClassifier(algorithm='auto', leaf_size=30, metric='minkowski',\n",
        "# \t\t           metric_params=None, n_jobs=1, n_neighbors=5, p=2,\n",
        "# \t\t           weights='uniform'),\n",
        "# \t\t       fit_params=None, iid=True, n_jobs=1,\n",
        "# \t\t       param_grid={'n_neighbors': [3, 5, 7, 9, 11]},\n",
        "# \t\t       pre_dispatch='2*n_jobs', refit=True, return_train_score='warn',\n",
        "# \t\t       scoring=None, verbose=0)"
      ],
      "execution_count": 18,
      "outputs": []
    },
    {
      "cell_type": "code",
      "metadata": {
        "colab": {
          "base_uri": "https://localhost:8080/"
        },
        "id": "EVTUynVKLfFk",
        "outputId": "58c94b62-d2bf-42b2-a9db-18020afe2923"
      },
      "source": [
        "abc.best_estimator_"
      ],
      "execution_count": 19,
      "outputs": [
        {
          "output_type": "execute_result",
          "data": {
            "text/plain": [
              "KNeighborsClassifier(n_neighbors=3)"
            ]
          },
          "metadata": {},
          "execution_count": 19
        }
      ]
    },
    {
      "cell_type": "code",
      "metadata": {
        "id": "ij9oHVpzLjP0"
      },
      "source": [
        "\t# KNeighborsClassifier(algorithm='auto', leaf_size=30, metric='minkowski',\n",
        "\t# \t           metric_params=None, n_jobs=1, n_neighbors=3, p=2,\n",
        "\t# \t           weights='uniform')"
      ],
      "execution_count": 20,
      "outputs": []
    },
    {
      "cell_type": "code",
      "metadata": {
        "colab": {
          "base_uri": "https://localhost:8080/"
        },
        "id": "gfdu2pT0LoWw",
        "outputId": "56428081-1bf3-41f2-ba67-61ca109c5c57"
      },
      "source": [
        "clf = svm.SVC()\n",
        "grid = {'C' : [1e2, 1e3, 5e3, 1e4, 5e4, 1e5],\n",
        "       'gamma' : [1e-3, 5e-4, 1e-4, 5e-3]}\n",
        "abc = GridSearchCV(clf, grid)\n",
        "abc.fit(x_train, y_train)"
      ],
      "execution_count": 21,
      "outputs": [
        {
          "output_type": "execute_result",
          "data": {
            "text/plain": [
              "GridSearchCV(estimator=SVC(),\n",
              "             param_grid={'C': [100.0, 1000.0, 5000.0, 10000.0, 50000.0,\n",
              "                               100000.0],\n",
              "                         'gamma': [0.001, 0.0005, 0.0001, 0.005]})"
            ]
          },
          "metadata": {},
          "execution_count": 21
        }
      ]
    },
    {
      "cell_type": "code",
      "metadata": {
        "id": "59y5l7MILq9x"
      },
      "source": [
        "# GridSearchCV(cv=None, error_score='raise',\n",
        "# \t\t       estimator=SVC(C=1.0, cache_size=200, class_weight=None, coef0=0.0,\n",
        "# \t\t  decision_function_shape='ovr', degree=3, gamma='auto', kernel='rbf',\n",
        "# \t\t  max_iter=-1, probability=False, random_state=None, shrinking=True,\n",
        "# \t\t  tol=0.001, verbose=False),\n",
        "# \t\t       fit_params=None, iid=True, n_jobs=1,\n",
        "# \t\t       param_grid={'C': [100.0, 1000.0, 5000.0, 10000.0, 50000.0, 100000.0], 'gamma': [0.001, 0.0005, 0.0001, 0.005]},\n",
        "# \t\t       pre_dispatch='2*n_jobs', refit=True, return_train_score='warn',\n",
        "# \t\t       scoring=None, verbose=0)"
      ],
      "execution_count": 22,
      "outputs": []
    },
    {
      "cell_type": "code",
      "metadata": {
        "colab": {
          "base_uri": "https://localhost:8080/"
        },
        "id": "e4T6gTEULuy-",
        "outputId": "1603a86a-beb4-4fde-cd07-284a5418b65e"
      },
      "source": [
        "abc.best_estimator_"
      ],
      "execution_count": 23,
      "outputs": [
        {
          "output_type": "execute_result",
          "data": {
            "text/plain": [
              "SVC(C=1000.0, gamma=0.0005)"
            ]
          },
          "metadata": {},
          "execution_count": 23
        }
      ]
    },
    {
      "cell_type": "code",
      "metadata": {
        "id": "xeHTIPguLxi-"
      },
      "source": [
        "# SVC(C=100.0, cache_size=200, class_weight=None, coef0=0.0,\n",
        "# \t\t  decision_function_shape='ovr', degree=3, gamma=0.005, kernel='rbf',\n",
        "# \t\t  max_iter=-1, probability=False, random_state=None, shrinking=True,\n",
        "# \t\t  tol=0.001, verbose=False)"
      ],
      "execution_count": 24,
      "outputs": []
    },
    {
      "cell_type": "code",
      "metadata": {
        "id": "cShCIBFeL20a"
      },
      "source": [
        ""
      ],
      "execution_count": 24,
      "outputs": []
    }
  ]
}